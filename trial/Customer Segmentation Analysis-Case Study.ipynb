{
 "cells": [
  {
   "cell_type": "code",
   "execution_count": 109,
   "id": "2277999d",
   "metadata": {},
   "outputs": [],
   "source": [
    "import pandas as pd\n",
    "from IPython.display import display\n",
    "import matplotlib.pyplot as plt\n",
    "import seaborn as sns\n",
    "from sklearn.tree import DecisionTreeClassifier\n",
    "from sklearn.svm import SVC\n",
    "from sklearn.model_selection import train_test_split\n",
    "from sklearn.metrics import classification_report\n",
    "import datetime as dt\n",
    "\n",
    "import warnings\n",
    "warnings.filterwarnings(\"ignore\")\n"
   ]
  },
  {
   "cell_type": "code",
   "execution_count": 67,
   "id": "76e915b1",
   "metadata": {},
   "outputs": [],
   "source": [
    "# Load the dataset\n",
    "df = pd.read_csv(r\"C:\\sia\\Online Retail.csv\", encoding='latin-1')"
   ]
  },
  {
   "cell_type": "code",
   "execution_count": 68,
   "id": "55a629c0",
   "metadata": {},
   "outputs": [
    {
     "name": "stdout",
     "output_type": "stream",
     "text": [
      "Missing values:\n",
      "InvoiceNo           0\n",
      "StockCode           0\n",
      "Description      1454\n",
      "Quantity            0\n",
      "InvoiceDate         0\n",
      "UnitPrice           0\n",
      "CustomerID     135080\n",
      "Country             0\n",
      "dtype: int64\n"
     ]
    }
   ],
   "source": [
    "# Handle missing values\n",
    "print(\"Missing values:\")\n",
    "print(df.isnull().sum())"
   ]
  },
  {
   "cell_type": "code",
   "execution_count": 69,
   "id": "954911c2",
   "metadata": {},
   "outputs": [],
   "source": [
    "# Remove rows with missing values\n",
    "df = df.dropna()"
   ]
  },
  {
   "cell_type": "code",
   "execution_count": 70,
   "id": "a3d248fc",
   "metadata": {},
   "outputs": [
    {
     "name": "stdout",
     "output_type": "stream",
     "text": [
      "\n",
      "Duplicate entries: 5225\n"
     ]
    }
   ],
   "source": [
    "# Remove duplicates\n",
    "print(\"\\nDuplicate entries:\", df.duplicated().sum())\n",
    "df = df.drop_duplicates()"
   ]
  },
  {
   "cell_type": "code",
   "execution_count": 71,
   "id": "d6b1ab2d",
   "metadata": {},
   "outputs": [],
   "source": [
    "# Address inconsistencies or errors\n",
    "# For example, converting InvoiceDate to datetime format\n",
    "df[\"InvoiceDate\"] = pd.to_datetime(df[\"InvoiceDate\"])"
   ]
  },
  {
   "cell_type": "code",
   "execution_count": 72,
   "id": "d99509a5",
   "metadata": {},
   "outputs": [],
   "source": [
    "# Data transformation\n",
    "# Convert categorical variables into numerical representations\n",
    "df[\"CountryCode\"] = df[\"Country\"].astype('category').cat.codes\n",
    "df[\"InvoiceYearMonth\"] = df[\"InvoiceDate\"].dt.to_period('M')\n",
    "df[\"TotalPrice\"] = df[\"Quantity\"] * df[\"UnitPrice\"]\n",
    "\n",
    "# Exclude canceled orders\n",
    "df = df[df[\"InvoiceNo\"].str.startswith(\"C\") == False]"
   ]
  },
  {
   "cell_type": "code",
   "execution_count": 73,
   "id": "c47e0fdf",
   "metadata": {},
   "outputs": [
    {
     "name": "stdout",
     "output_type": "stream",
     "text": [
      "\n",
      "Updated dataframe:\n"
     ]
    },
    {
     "data": {
      "text/html": [
       "<div>\n",
       "<style scoped>\n",
       "    .dataframe tbody tr th:only-of-type {\n",
       "        vertical-align: middle;\n",
       "    }\n",
       "\n",
       "    .dataframe tbody tr th {\n",
       "        vertical-align: top;\n",
       "    }\n",
       "\n",
       "    .dataframe thead th {\n",
       "        text-align: right;\n",
       "    }\n",
       "</style>\n",
       "<table border=\"1\" class=\"dataframe\">\n",
       "  <thead>\n",
       "    <tr style=\"text-align: right;\">\n",
       "      <th></th>\n",
       "      <th>InvoiceNo</th>\n",
       "      <th>StockCode</th>\n",
       "      <th>Description</th>\n",
       "      <th>Quantity</th>\n",
       "      <th>InvoiceDate</th>\n",
       "      <th>UnitPrice</th>\n",
       "      <th>CustomerID</th>\n",
       "      <th>Country</th>\n",
       "      <th>CountryCode</th>\n",
       "      <th>InvoiceYearMonth</th>\n",
       "      <th>TotalPrice</th>\n",
       "    </tr>\n",
       "  </thead>\n",
       "  <tbody>\n",
       "    <tr>\n",
       "      <th>0</th>\n",
       "      <td>536365</td>\n",
       "      <td>85123A</td>\n",
       "      <td>WHITE HANGING HEART T-LIGHT HOLDER</td>\n",
       "      <td>6</td>\n",
       "      <td>2010-01-12 08:26:00</td>\n",
       "      <td>2.55</td>\n",
       "      <td>17850.0</td>\n",
       "      <td>United Kingdom</td>\n",
       "      <td>35</td>\n",
       "      <td>2010-01</td>\n",
       "      <td>15.30</td>\n",
       "    </tr>\n",
       "    <tr>\n",
       "      <th>1</th>\n",
       "      <td>536365</td>\n",
       "      <td>71053</td>\n",
       "      <td>WHITE METAL LANTERN</td>\n",
       "      <td>6</td>\n",
       "      <td>2010-01-12 08:26:00</td>\n",
       "      <td>3.39</td>\n",
       "      <td>17850.0</td>\n",
       "      <td>United Kingdom</td>\n",
       "      <td>35</td>\n",
       "      <td>2010-01</td>\n",
       "      <td>20.34</td>\n",
       "    </tr>\n",
       "    <tr>\n",
       "      <th>2</th>\n",
       "      <td>536365</td>\n",
       "      <td>84406B</td>\n",
       "      <td>CREAM CUPID HEARTS COAT HANGER</td>\n",
       "      <td>8</td>\n",
       "      <td>2010-01-12 08:26:00</td>\n",
       "      <td>2.75</td>\n",
       "      <td>17850.0</td>\n",
       "      <td>United Kingdom</td>\n",
       "      <td>35</td>\n",
       "      <td>2010-01</td>\n",
       "      <td>22.00</td>\n",
       "    </tr>\n",
       "    <tr>\n",
       "      <th>3</th>\n",
       "      <td>536365</td>\n",
       "      <td>84029G</td>\n",
       "      <td>KNITTED UNION FLAG HOT WATER BOTTLE</td>\n",
       "      <td>6</td>\n",
       "      <td>2010-01-12 08:26:00</td>\n",
       "      <td>3.39</td>\n",
       "      <td>17850.0</td>\n",
       "      <td>United Kingdom</td>\n",
       "      <td>35</td>\n",
       "      <td>2010-01</td>\n",
       "      <td>20.34</td>\n",
       "    </tr>\n",
       "    <tr>\n",
       "      <th>4</th>\n",
       "      <td>536365</td>\n",
       "      <td>84029E</td>\n",
       "      <td>RED WOOLLY HOTTIE WHITE HEART.</td>\n",
       "      <td>6</td>\n",
       "      <td>2010-01-12 08:26:00</td>\n",
       "      <td>3.39</td>\n",
       "      <td>17850.0</td>\n",
       "      <td>United Kingdom</td>\n",
       "      <td>35</td>\n",
       "      <td>2010-01</td>\n",
       "      <td>20.34</td>\n",
       "    </tr>\n",
       "  </tbody>\n",
       "</table>\n",
       "</div>"
      ],
      "text/plain": [
       "  InvoiceNo StockCode                          Description  Quantity  \\\n",
       "0    536365    85123A   WHITE HANGING HEART T-LIGHT HOLDER         6   \n",
       "1    536365     71053                  WHITE METAL LANTERN         6   \n",
       "2    536365    84406B       CREAM CUPID HEARTS COAT HANGER         8   \n",
       "3    536365    84029G  KNITTED UNION FLAG HOT WATER BOTTLE         6   \n",
       "4    536365    84029E       RED WOOLLY HOTTIE WHITE HEART.         6   \n",
       "\n",
       "          InvoiceDate  UnitPrice  CustomerID         Country  CountryCode  \\\n",
       "0 2010-01-12 08:26:00       2.55     17850.0  United Kingdom           35   \n",
       "1 2010-01-12 08:26:00       3.39     17850.0  United Kingdom           35   \n",
       "2 2010-01-12 08:26:00       2.75     17850.0  United Kingdom           35   \n",
       "3 2010-01-12 08:26:00       3.39     17850.0  United Kingdom           35   \n",
       "4 2010-01-12 08:26:00       3.39     17850.0  United Kingdom           35   \n",
       "\n",
       "  InvoiceYearMonth  TotalPrice  \n",
       "0          2010-01       15.30  \n",
       "1          2010-01       20.34  \n",
       "2          2010-01       22.00  \n",
       "3          2010-01       20.34  \n",
       "4          2010-01       20.34  "
      ]
     },
     "metadata": {},
     "output_type": "display_data"
    }
   ],
   "source": [
    "# Print the updated dataframe\n",
    "print(\"\\nUpdated dataframe:\")\n",
    "display(df.head())"
   ]
  },
  {
   "cell_type": "markdown",
   "id": "c8b7e5d2",
   "metadata": {},
   "source": [
    "# EDA: "
   ]
  },
  {
   "cell_type": "markdown",
   "id": "5b1c74b9",
   "metadata": {},
   "source": [
    "### Shape of data"
   ]
  },
  {
   "cell_type": "code",
   "execution_count": 74,
   "id": "1f7f7b36",
   "metadata": {},
   "outputs": [
    {
     "data": {
      "text/plain": [
       "(401604, 11)"
      ]
     },
     "execution_count": 74,
     "metadata": {},
     "output_type": "execute_result"
    }
   ],
   "source": [
    "#Shape of data:\n",
    "df.shape"
   ]
  },
  {
   "cell_type": "markdown",
   "id": "e47c90a9",
   "metadata": {},
   "source": [
    "### Structure of Data"
   ]
  },
  {
   "cell_type": "code",
   "execution_count": 75,
   "id": "6aaacbf3",
   "metadata": {},
   "outputs": [
    {
     "name": "stdout",
     "output_type": "stream",
     "text": [
      "<class 'pandas.core.frame.DataFrame'>\n",
      "Int64Index: 401604 entries, 0 to 541908\n",
      "Data columns (total 11 columns):\n",
      " #   Column            Non-Null Count   Dtype         \n",
      "---  ------            --------------   -----         \n",
      " 0   InvoiceNo         401604 non-null  object        \n",
      " 1   StockCode         401604 non-null  object        \n",
      " 2   Description       401604 non-null  object        \n",
      " 3   Quantity          401604 non-null  int64         \n",
      " 4   InvoiceDate       401604 non-null  datetime64[ns]\n",
      " 5   UnitPrice         401604 non-null  float64       \n",
      " 6   CustomerID        401604 non-null  float64       \n",
      " 7   Country           401604 non-null  object        \n",
      " 8   CountryCode       401604 non-null  int8          \n",
      " 9   InvoiceYearMonth  401604 non-null  period[M]     \n",
      " 10  TotalPrice        401604 non-null  float64       \n",
      "dtypes: datetime64[ns](1), float64(3), int64(1), int8(1), object(4), period[M](1)\n",
      "memory usage: 34.1+ MB\n"
     ]
    }
   ],
   "source": [
    "df.info()"
   ]
  },
  {
   "cell_type": "markdown",
   "id": "d113e032",
   "metadata": {},
   "source": [
    "### Descriptive Statistics"
   ]
  },
  {
   "cell_type": "code",
   "execution_count": 76,
   "id": "dc2a0704",
   "metadata": {},
   "outputs": [
    {
     "name": "stdout",
     "output_type": "stream",
     "text": [
      "\n",
      "Descriptive Statistics:\n"
     ]
    },
    {
     "data": {
      "text/html": [
       "<div>\n",
       "<style scoped>\n",
       "    .dataframe tbody tr th:only-of-type {\n",
       "        vertical-align: middle;\n",
       "    }\n",
       "\n",
       "    .dataframe tbody tr th {\n",
       "        vertical-align: top;\n",
       "    }\n",
       "\n",
       "    .dataframe thead th {\n",
       "        text-align: right;\n",
       "    }\n",
       "</style>\n",
       "<table border=\"1\" class=\"dataframe\">\n",
       "  <thead>\n",
       "    <tr style=\"text-align: right;\">\n",
       "      <th></th>\n",
       "      <th>Quantity</th>\n",
       "      <th>UnitPrice</th>\n",
       "      <th>CustomerID</th>\n",
       "      <th>CountryCode</th>\n",
       "      <th>TotalPrice</th>\n",
       "    </tr>\n",
       "  </thead>\n",
       "  <tbody>\n",
       "    <tr>\n",
       "      <th>count</th>\n",
       "      <td>401604.000000</td>\n",
       "      <td>401604.000000</td>\n",
       "      <td>401604.000000</td>\n",
       "      <td>401604.000000</td>\n",
       "      <td>401604.000000</td>\n",
       "    </tr>\n",
       "    <tr>\n",
       "      <th>mean</th>\n",
       "      <td>12.183273</td>\n",
       "      <td>3.474064</td>\n",
       "      <td>15281.160818</td>\n",
       "      <td>32.803080</td>\n",
       "      <td>20.613638</td>\n",
       "    </tr>\n",
       "    <tr>\n",
       "      <th>std</th>\n",
       "      <td>250.283037</td>\n",
       "      <td>69.764035</td>\n",
       "      <td>1714.006089</td>\n",
       "      <td>6.772753</td>\n",
       "      <td>430.352218</td>\n",
       "    </tr>\n",
       "    <tr>\n",
       "      <th>min</th>\n",
       "      <td>-80995.000000</td>\n",
       "      <td>0.000000</td>\n",
       "      <td>12346.000000</td>\n",
       "      <td>0.000000</td>\n",
       "      <td>-168469.600000</td>\n",
       "    </tr>\n",
       "    <tr>\n",
       "      <th>25%</th>\n",
       "      <td>2.000000</td>\n",
       "      <td>1.250000</td>\n",
       "      <td>13939.000000</td>\n",
       "      <td>35.000000</td>\n",
       "      <td>4.250000</td>\n",
       "    </tr>\n",
       "    <tr>\n",
       "      <th>50%</th>\n",
       "      <td>5.000000</td>\n",
       "      <td>1.950000</td>\n",
       "      <td>15145.000000</td>\n",
       "      <td>35.000000</td>\n",
       "      <td>11.700000</td>\n",
       "    </tr>\n",
       "    <tr>\n",
       "      <th>75%</th>\n",
       "      <td>12.000000</td>\n",
       "      <td>3.750000</td>\n",
       "      <td>16784.000000</td>\n",
       "      <td>35.000000</td>\n",
       "      <td>19.800000</td>\n",
       "    </tr>\n",
       "    <tr>\n",
       "      <th>max</th>\n",
       "      <td>80995.000000</td>\n",
       "      <td>38970.000000</td>\n",
       "      <td>18287.000000</td>\n",
       "      <td>36.000000</td>\n",
       "      <td>168469.600000</td>\n",
       "    </tr>\n",
       "  </tbody>\n",
       "</table>\n",
       "</div>"
      ],
      "text/plain": [
       "            Quantity      UnitPrice     CustomerID    CountryCode  \\\n",
       "count  401604.000000  401604.000000  401604.000000  401604.000000   \n",
       "mean       12.183273       3.474064   15281.160818      32.803080   \n",
       "std       250.283037      69.764035    1714.006089       6.772753   \n",
       "min    -80995.000000       0.000000   12346.000000       0.000000   \n",
       "25%         2.000000       1.250000   13939.000000      35.000000   \n",
       "50%         5.000000       1.950000   15145.000000      35.000000   \n",
       "75%        12.000000       3.750000   16784.000000      35.000000   \n",
       "max     80995.000000   38970.000000   18287.000000      36.000000   \n",
       "\n",
       "          TotalPrice  \n",
       "count  401604.000000  \n",
       "mean       20.613638  \n",
       "std       430.352218  \n",
       "min   -168469.600000  \n",
       "25%         4.250000  \n",
       "50%        11.700000  \n",
       "75%        19.800000  \n",
       "max    168469.600000  "
      ]
     },
     "metadata": {},
     "output_type": "display_data"
    }
   ],
   "source": [
    "print(\"\\nDescriptive Statistics:\")\n",
    "display(df.describe())"
   ]
  },
  {
   "cell_type": "markdown",
   "id": "66c896ef",
   "metadata": {},
   "source": [
    "### Total Number of Products, Transactions, and Customers"
   ]
  },
  {
   "cell_type": "code",
   "execution_count": 77,
   "id": "d5e7bb19",
   "metadata": {},
   "outputs": [
    {
     "name": "stdout",
     "output_type": "stream",
     "text": [
      "Total Number of Products: 3684\n",
      "Total Number of Transactions: 22190\n",
      "Total Number of Customers: 4372\n"
     ]
    }
   ],
   "source": [
    "# Total number of products, transactions, and customers\n",
    "num_products = df['StockCode'].nunique()\n",
    "num_transactions = df['InvoiceNo'].nunique()\n",
    "num_customers = df['CustomerID'].nunique()\n",
    "\n",
    "print(\"Total Number of Products:\", num_products)\n",
    "print(\"Total Number of Transactions:\", num_transactions)\n",
    "print(\"Total Number of Customers:\", num_customers)"
   ]
  },
  {
   "cell_type": "code",
   "execution_count": 78,
   "id": "523ef183",
   "metadata": {},
   "outputs": [
    {
     "data": {
      "text/plain": [
       "Text(0.5, 1.0, 'Histogram of Purchase Frequency')"
      ]
     },
     "execution_count": 78,
     "metadata": {},
     "output_type": "execute_result"
    },
    {
     "data": {
      "image/png": "[encoded data removed]",
      "text/plain": [
       "<Figure size 432x288 with 1 Axes>"
      ]
     },
     "metadata": {
      "needs_background": "light"
     },
     "output_type": "display_data"
    }
   ],
   "source": [
    "# Histogram of purchase frequency\n",
    "plt.subplot(1, 2, 1)\n",
    "df['CustomerID'].value_counts().hist(bins=50)\n",
    "plt.xlabel('Purchase Frequency')\n",
    "plt.ylabel('Count')\n",
    "plt.title('Histogram of Purchase Frequency')"
   ]
  },
  {
   "cell_type": "markdown",
   "id": "c7a8af64",
   "metadata": {},
   "source": [
    "### Analysis of Order Types"
   ]
  },
  {
   "cell_type": "code",
   "execution_count": 79,
   "id": "d101fa00",
   "metadata": {},
   "outputs": [
    {
     "name": "stdout",
     "output_type": "stream",
     "text": [
      "Number of Canceled Orders: 8872\n",
      "Number of Postage Orders: 1196\n",
      "Number of Discount Orders: 77\n"
     ]
    }
   ],
   "source": [
    "# Remove leading and trailing spaces from \"InvoiceNo\" column\n",
    "df['InvoiceNo'] = df['InvoiceNo'].str.strip()\n",
    "\n",
    "# Count canceled orders\n",
    "cancelled_orders = df[df['InvoiceNo'].str.contains('Cancelled')].shape[0]\n",
    "\n",
    "# Count postage orders\n",
    "postage_orders = df[df['StockCode'] == 'POST'].shape[0]\n",
    "\n",
    "# Count discount orders\n",
    "discount_orders = df[df['Description'] == 'DISCOUNT'].shape[0]\n",
    "\n",
    "print(\"Number of Canceled Orders:\", cancelled_orders)\n",
    "print(\"Number of Postage Orders:\", postage_orders)\n",
    "print(\"Number of Discount Orders:\", discount_orders)"
   ]
  },
  {
   "cell_type": "markdown",
   "id": "242fa773",
   "metadata": {},
   "source": [
    "### Cohort analysis\n",
    "Cohort analysis: Time cohorts\n",
    "\n",
    ">We group customers by their purchase behavior over time, specifically by their monthly purchase count using the \"InvoiceNo\" column.\n",
    "\n",
    "Cohort analysis: Behavior cohorts\n",
    "\n",
    ">We determine the customer's cohort based on the month of their first purchase and calculate the cohort index based on the number of months between subsequent purchases.\n",
    "\n",
    "Cohort analysis: Size cohorts\n",
    "\n",
    ">We calculate the cohort size by counting the number of unique customers in each cohort."
   ]
  },
  {
   "cell_type": "code",
   "execution_count": 101,
   "id": "5f77d67a",
   "metadata": {},
   "outputs": [],
   "source": [
    "cohort_data = df[['InvoiceNo','StockCode','Description','Quantity','InvoiceDate','UnitPrice','CustomerID','Country']]"
   ]
  },
  {
   "cell_type": "code",
   "execution_count": 80,
   "id": "a8e0279a",
   "metadata": {},
   "outputs": [],
   "source": [
    "# Cohort analysis: Time cohorts\n",
    "df[\"InvoiceMonth\"] = df[\"InvoiceDate\"].dt.to_period('M')\n",
    "cohort_data = df.groupby([\"CustomerID\", \"InvoiceMonth\"]).agg({\"InvoiceNo\": \"nunique\"}).reset_index()\n",
    "cohort_data.rename(columns={\"InvoiceNo\": \"TotalPurchases\"}, inplace=True)\n",
    "\n",
    "# Cohort analysis: Behavior cohorts\n",
    "cohort_data[\"CohortMonth\"] = cohort_data.groupby(\"CustomerID\")[\"InvoiceMonth\"].transform(\"min\")\n",
    "cohort_data[\"CohortIndex\"] = (cohort_data[\"InvoiceMonth\"].dt.year - cohort_data[\"CohortMonth\"].dt.year) * 12 + (cohort_data[\"InvoiceMonth\"].dt.month - cohort_data[\"CohortMonth\"].dt.month) + 1\n",
    "\n",
    "# Cohort analysis: Size cohorts\n",
    "cohort_sizes = cohort_data.groupby([\"CohortMonth\", \"CohortIndex\"]).agg({\"CustomerID\": \"nunique\"}).reset_index()\n",
    "cohort_sizes.rename(columns={\"CustomerID\": \"CohortSize\"}, inplace=True)\n"
   ]
  },
  {
   "cell_type": "code",
   "execution_count": 81,
   "id": "b2f91055",
   "metadata": {},
   "outputs": [
    {
     "data": {
      "image/png": "[encoded data removed]",
      "text/plain": [
       "<Figure size 720x432 with 2 Axes>"
      ]
     },
     "metadata": {
      "needs_background": "light"
     },
     "output_type": "display_data"
    }
   ],
   "source": [
    "# Cohort analysis\n",
    "# Plotting time cohorts\n",
    "\n",
    "cohort_pivot = cohort_data.pivot_table(index=\"CohortMonth\", columns=\"CohortIndex\", values=\"TotalPurchases\", aggfunc=\"mean\")\n",
    "\n",
    "plt.figure(figsize=(10, 6))\n",
    "plt.title('Cohort Analysis - Time Cohorts')\n",
    "sns.heatmap(data=cohort_pivot, annot=True, fmt=\".1f\", cmap=\"YlGnBu\", cbar_kws={'label': 'Average Total Purchases'})\n",
    "plt.xlabel('Cohort Index')\n",
    "plt.ylabel('Cohort Month')\n",
    "plt.show()\n"
   ]
  },
  {
   "cell_type": "markdown",
   "id": "dafcf453",
   "metadata": {},
   "source": [
    "### Customer segmentation insights\n",
    "\n",
    ">We calculate the total spending and purchase frequency for each customer."
   ]
  },
  {
   "cell_type": "code",
   "execution_count": 82,
   "id": "098b9579",
   "metadata": {},
   "outputs": [
    {
     "data": {
      "text/html": [
       "<div>\n",
       "<style scoped>\n",
       "    .dataframe tbody tr th:only-of-type {\n",
       "        vertical-align: middle;\n",
       "    }\n",
       "\n",
       "    .dataframe tbody tr th {\n",
       "        vertical-align: top;\n",
       "    }\n",
       "\n",
       "    .dataframe thead th {\n",
       "        text-align: right;\n",
       "    }\n",
       "</style>\n",
       "<table border=\"1\" class=\"dataframe\">\n",
       "  <thead>\n",
       "    <tr style=\"text-align: right;\">\n",
       "      <th></th>\n",
       "      <th>CustomerID</th>\n",
       "      <th>TotalPrice</th>\n",
       "      <th>InvoiceNo</th>\n",
       "    </tr>\n",
       "  </thead>\n",
       "  <tbody>\n",
       "    <tr>\n",
       "      <th>0</th>\n",
       "      <td>12346.0</td>\n",
       "      <td>0.00</td>\n",
       "      <td>2</td>\n",
       "    </tr>\n",
       "    <tr>\n",
       "      <th>1</th>\n",
       "      <td>12347.0</td>\n",
       "      <td>4310.00</td>\n",
       "      <td>7</td>\n",
       "    </tr>\n",
       "    <tr>\n",
       "      <th>2</th>\n",
       "      <td>12348.0</td>\n",
       "      <td>1797.24</td>\n",
       "      <td>4</td>\n",
       "    </tr>\n",
       "    <tr>\n",
       "      <th>3</th>\n",
       "      <td>12349.0</td>\n",
       "      <td>1757.55</td>\n",
       "      <td>1</td>\n",
       "    </tr>\n",
       "    <tr>\n",
       "      <th>4</th>\n",
       "      <td>12350.0</td>\n",
       "      <td>334.40</td>\n",
       "      <td>1</td>\n",
       "    </tr>\n",
       "    <tr>\n",
       "      <th>...</th>\n",
       "      <td>...</td>\n",
       "      <td>...</td>\n",
       "      <td>...</td>\n",
       "    </tr>\n",
       "    <tr>\n",
       "      <th>4367</th>\n",
       "      <td>18280.0</td>\n",
       "      <td>180.60</td>\n",
       "      <td>1</td>\n",
       "    </tr>\n",
       "    <tr>\n",
       "      <th>4368</th>\n",
       "      <td>18281.0</td>\n",
       "      <td>80.82</td>\n",
       "      <td>1</td>\n",
       "    </tr>\n",
       "    <tr>\n",
       "      <th>4369</th>\n",
       "      <td>18282.0</td>\n",
       "      <td>176.60</td>\n",
       "      <td>3</td>\n",
       "    </tr>\n",
       "    <tr>\n",
       "      <th>4370</th>\n",
       "      <td>18283.0</td>\n",
       "      <td>2045.53</td>\n",
       "      <td>16</td>\n",
       "    </tr>\n",
       "    <tr>\n",
       "      <th>4371</th>\n",
       "      <td>18287.0</td>\n",
       "      <td>1837.28</td>\n",
       "      <td>3</td>\n",
       "    </tr>\n",
       "  </tbody>\n",
       "</table>\n",
       "<p>4372 rows × 3 columns</p>\n",
       "</div>"
      ],
      "text/plain": [
       "      CustomerID  TotalPrice  InvoiceNo\n",
       "0        12346.0        0.00          2\n",
       "1        12347.0     4310.00          7\n",
       "2        12348.0     1797.24          4\n",
       "3        12349.0     1757.55          1\n",
       "4        12350.0      334.40          1\n",
       "...          ...         ...        ...\n",
       "4367     18280.0      180.60          1\n",
       "4368     18281.0       80.82          1\n",
       "4369     18282.0      176.60          3\n",
       "4370     18283.0     2045.53         16\n",
       "4371     18287.0     1837.28          3\n",
       "\n",
       "[4372 rows x 3 columns]"
      ]
     },
     "execution_count": 82,
     "metadata": {},
     "output_type": "execute_result"
    }
   ],
   "source": [
    "# Customer segmentation insights: Total spending vs. purchase frequency\n",
    "segmentation_data = df.groupby(\"CustomerID\").agg({\"TotalPrice\": \"sum\", \"InvoiceNo\": \"nunique\"}).reset_index()\n",
    "segmentation_data"
   ]
  },
  {
   "cell_type": "code",
   "execution_count": 83,
   "id": "1e8d313f",
   "metadata": {},
   "outputs": [
    {
     "data": {
      "image/png": "[encoded data removed]",
      "text/plain": [
       "<Figure size 432x432 with 1 Axes>"
      ]
     },
     "metadata": {
      "needs_background": "light"
     },
     "output_type": "display_data"
    }
   ],
   "source": [
    "# Customer segmentation insights\n",
    "plt.figure(figsize=(6, 6))\n",
    "plt.scatter(df['TotalPrice'], df['Quantity'])\n",
    "plt.xlabel('Total Spending')\n",
    "plt.ylabel('Quantity')\n",
    "plt.title('Total Spending vs. Quantity')\n",
    "plt.show()"
   ]
  },
  {
   "cell_type": "markdown",
   "id": "985d2ebf",
   "metadata": {},
   "source": [
    "### Identify outliers and anomalies\n",
    "\n",
    ">We use boxplots to identify outliers and anomalies in the total spending and purchase frequency variables."
   ]
  },
  {
   "cell_type": "code",
   "execution_count": 84,
   "id": "bbe18c1d",
   "metadata": {},
   "outputs": [
    {
     "data": {
      "image/png": "[encoded data removed]",
      "text/plain": [
       "<Figure size 432x288 with 1 Axes>"
      ]
     },
     "metadata": {
      "needs_background": "light"
     },
     "output_type": "display_data"
    }
   ],
   "source": [
    "# Identify outliers and anomalies: Total spending\n",
    "plt.boxplot(segmentation_data[\"TotalPrice\"])\n",
    "plt.xlabel(\"Total Spending\")\n",
    "plt.ylabel(\"Amount\")\n",
    "plt.title(\"Boxplot of Total Spending\")\n",
    "plt.show()"
   ]
  },
  {
   "cell_type": "code",
   "execution_count": 85,
   "id": "d694be4e",
   "metadata": {},
   "outputs": [
    {
     "data": {
      "image/png": "[encoded data removed]",
      "text/plain": [
       "<Figure size 432x288 with 1 Axes>"
      ]
     },
     "metadata": {
      "needs_background": "light"
     },
     "output_type": "display_data"
    }
   ],
   "source": [
    "# Identify outliers and anomalies: Purchase frequency\n",
    "plt.boxplot(segmentation_data[\"InvoiceNo\"])\n",
    "plt.xlabel(\"Purchase Frequency\")\n",
    "plt.ylabel(\"Count\")\n",
    "plt.title(\"Boxplot of Purchase Frequency\")\n",
    "plt.show()"
   ]
  },
  {
   "cell_type": "markdown",
   "id": "55707ca4",
   "metadata": {},
   "source": [
    "### Customer Demographics"
   ]
  },
  {
   "cell_type": "code",
   "execution_count": 86,
   "id": "f4c3fb7d",
   "metadata": {},
   "outputs": [
    {
     "data": {
      "image/png": "[encoded data removed]",
      "text/plain": [
       "<Figure size 432x288 with 1 Axes>"
      ]
     },
     "metadata": {
      "needs_background": "light"
     },
     "output_type": "display_data"
    }
   ],
   "source": [
    "# Explore customer demographics\n",
    "plt.figure(figsize=(6, 4))\n",
    "df['Country'].value_counts().head(10).plot(kind='bar')\n",
    "plt.xlabel('Country')\n",
    "plt.ylabel('Count')\n",
    "plt.title('Top 10 Countries by Customer Count')\n",
    "plt.show()"
   ]
  },
  {
   "cell_type": "markdown",
   "id": "7876335b",
   "metadata": {},
   "source": [
    "# Feature selection & Feature Engineering"
   ]
  },
  {
   "cell_type": "markdown",
   "id": "25c57f78",
   "metadata": {},
   "source": [
    "### Feature selection"
   ]
  },
  {
   "cell_type": "code",
   "execution_count": 87,
   "id": "6356e8be",
   "metadata": {},
   "outputs": [],
   "source": [
    "# Feature Selection\n",
    "selected_features = ['CustomerID', 'InvoiceNo', 'InvoiceDate', 'Quantity', 'UnitPrice']\n",
    "selected_data = df[selected_features]"
   ]
  },
  {
   "cell_type": "markdown",
   "id": "00938a0a",
   "metadata": {},
   "source": [
    "### Feature Engineering"
   ]
  },
  {
   "cell_type": "code",
   "execution_count": 88,
   "id": "f7f89f0d",
   "metadata": {},
   "outputs": [],
   "source": [
    "# Feature Engineering\n",
    "# Calculate total spending per customer\n",
    "total_spending = selected_data.groupby('CustomerID')['Quantity', 'UnitPrice'].prod().sum(axis=1)\n",
    "selected_data['TotalSpending'] = total_spending\n",
    "\n",
    "# Fill missing values with 0\n",
    "selected_data['TotalSpending'].fillna(0, inplace=True)\n",
    "\n",
    "# Calculate purchase frequency per customer\n",
    "purchase_frequency = selected_data.groupby('CustomerID')['InvoiceNo'].nunique()\n",
    "selected_data['PurchaseFrequency'] = purchase_frequency"
   ]
  },
  {
   "cell_type": "markdown",
   "id": "02b78884",
   "metadata": {},
   "source": [
    "#### Average Basket Size"
   ]
  },
  {
   "cell_type": "code",
   "execution_count": 89,
   "id": "20cce02a",
   "metadata": {},
   "outputs": [
    {
     "name": "stdout",
     "output_type": "stream",
     "text": [
      "Average Basket Size:  12.183272576966365\n"
     ]
    }
   ],
   "source": [
    "# Calculate average basket size overall\n",
    "average_basket_size = selected_data['Quantity'].mean()\n",
    "print(\"Average Basket Size: \", average_basket_size)"
   ]
  },
  {
   "cell_type": "markdown",
   "id": "e4e6c341",
   "metadata": {},
   "source": [
    "#### Is Buyer Frequent or Occasional?"
   ]
  },
  {
   "cell_type": "code",
   "execution_count": 90,
   "id": "1acb8f74",
   "metadata": {},
   "outputs": [
    {
     "name": "stdout",
     "output_type": "stream",
     "text": [
      "Occasional    400793\n",
      "Frequent         811\n",
      "Name: FrequentBuyer, dtype: int64\n"
     ]
    }
   ],
   "source": [
    "# Create a new variable indicating whether a customer is a frequent buyer or occasional shopper\n",
    "selected_data['FrequentBuyer'] = selected_data['PurchaseFrequency'].apply(lambda x: 'Frequent' if x >= 5 else 'Occasional')\n",
    "\n",
    "# Count the types of buyer\n",
    "buyer_counts = selected_data['FrequentBuyer'].value_counts()\n",
    "print(buyer_counts)\n"
   ]
  },
  {
   "cell_type": "markdown",
   "id": "7ec9a376",
   "metadata": {},
   "source": [
    "### RFM Analysis"
   ]
  },
  {
   "cell_type": "code",
   "execution_count": 124,
   "id": "0d46a912",
   "metadata": {},
   "outputs": [
    {
     "name": "stdout",
     "output_type": "stream",
     "text": [
      "Date range: 697 days\n",
      "Start date: 2010-12-11\n",
      "End date: 2011-12-10\n",
      "Snapshot date: 2011-12-11\n"
     ]
    },
    {
     "data": {
      "text/html": [
       "<div>\n",
       "<style scoped>\n",
       "    .dataframe tbody tr th:only-of-type {\n",
       "        vertical-align: middle;\n",
       "    }\n",
       "\n",
       "    .dataframe tbody tr th {\n",
       "        vertical-align: top;\n",
       "    }\n",
       "\n",
       "    .dataframe thead th {\n",
       "        text-align: right;\n",
       "    }\n",
       "</style>\n",
       "<table border=\"1\" class=\"dataframe\">\n",
       "  <thead>\n",
       "    <tr style=\"text-align: right;\">\n",
       "      <th></th>\n",
       "      <th>CustomerID</th>\n",
       "      <th>Recency</th>\n",
       "      <th>Frequency</th>\n",
       "      <th>MonetaryValue</th>\n",
       "      <th>R</th>\n",
       "      <th>F</th>\n",
       "      <th>M</th>\n",
       "    </tr>\n",
       "  </thead>\n",
       "  <tbody>\n",
       "    <tr>\n",
       "      <th>0</th>\n",
       "      <td>12346.0</td>\n",
       "      <td>327</td>\n",
       "      <td>2</td>\n",
       "      <td>0.00</td>\n",
       "      <td>1</td>\n",
       "      <td>1</td>\n",
       "      <td>1</td>\n",
       "    </tr>\n",
       "    <tr>\n",
       "      <th>1</th>\n",
       "      <td>12347.0</td>\n",
       "      <td>41</td>\n",
       "      <td>151</td>\n",
       "      <td>3598.21</td>\n",
       "      <td>3</td>\n",
       "      <td>4</td>\n",
       "      <td>4</td>\n",
       "    </tr>\n",
       "    <tr>\n",
       "      <th>2</th>\n",
       "      <td>12348.0</td>\n",
       "      <td>77</td>\n",
       "      <td>31</td>\n",
       "      <td>1797.24</td>\n",
       "      <td>2</td>\n",
       "      <td>2</td>\n",
       "      <td>4</td>\n",
       "    </tr>\n",
       "    <tr>\n",
       "      <th>3</th>\n",
       "      <td>12349.0</td>\n",
       "      <td>20</td>\n",
       "      <td>73</td>\n",
       "      <td>1757.55</td>\n",
       "      <td>4</td>\n",
       "      <td>3</td>\n",
       "      <td>4</td>\n",
       "    </tr>\n",
       "    <tr>\n",
       "      <th>4</th>\n",
       "      <td>12350.0</td>\n",
       "      <td>312</td>\n",
       "      <td>17</td>\n",
       "      <td>334.40</td>\n",
       "      <td>1</td>\n",
       "      <td>1</td>\n",
       "      <td>2</td>\n",
       "    </tr>\n",
       "  </tbody>\n",
       "</table>\n",
       "</div>"
      ],
      "text/plain": [
       "   CustomerID  Recency  Frequency  MonetaryValue  R  F  M\n",
       "0     12346.0      327          2           0.00  1  1  1\n",
       "1     12347.0       41        151        3598.21  3  4  4\n",
       "2     12348.0       77         31        1797.24  2  2  4\n",
       "3     12349.0       20         73        1757.55  4  3  4\n",
       "4     12350.0      312         17         334.40  1  1  2"
      ]
     },
     "execution_count": 124,
     "metadata": {},
     "output_type": "execute_result"
    }
   ],
   "source": [
    "import pandas as pd\n",
    "from dateutil.relativedelta import relativedelta\n",
    "\n",
    "# Convert InvoiceDate to date format\n",
    "all_dates = (pd.to_datetime(cohort_data['InvoiceDate'])).apply(lambda x: x.date())\n",
    "\n",
    "# Check the date range of the data\n",
    "date_range = (all_dates.max() - all_dates.min()).days\n",
    "print(\"Date range: {} days\".format(date_range))\n",
    "\n",
    "# Start and end dates\n",
    "#print('Start date: {}'.format(all_dates.min()))\n",
    "#print('End date: {}'.format(all_dates.max()))\n",
    "\n",
    "# Calculate the start date for RFM analysis (12 months ago from the max date)\n",
    "start_date = all_dates.max() - relativedelta(months=12, days=-1)\n",
    "print('Start date: {}'.format(start_date))\n",
    "print('End date: {}'.format(all_dates.max()))\n",
    "\n",
    "cohort_data['TotalSum'] = cohort_data['Quantity']*cohort_data['UnitPrice']\n",
    "cohort_data.head() \n",
    "snapshot_date = max(data_rfm.InvoiceDate) + dt.timedelta(days=1)\n",
    "print('Snapshot date: {}'.format(snapshot_date.date()))\n",
    "\n",
    "# Filter the data based on the start date\n",
    "data_rfm = cohort_data[cohort_data['InvoiceDate'] >= pd.to_datetime(start_date)]\n",
    "data_rfm.reset_index(drop=True, inplace=True)\n",
    "\n",
    "# Aggregate data on a customer level\n",
    "data = data_rfm.groupby(['CustomerID'], as_index=False).agg({\n",
    "    'InvoiceDate': lambda x: (snapshot_date - x.max()).days,\n",
    "    'InvoiceNo': 'count',\n",
    "    'TotalSum': 'sum'\n",
    "}).rename(columns={\n",
    "    'InvoiceDate': 'Recency',\n",
    "    'InvoiceNo': 'Frequency',\n",
    "    'TotalSum': 'MonetaryValue'\n",
    "})\n",
    "\n",
    "# Assign R, F, and M quartiles\n",
    "r_labels = range(4, 0, -1)\n",
    "r_quartiles = pd.qcut(data['Recency'], 4, labels=r_labels)\n",
    "data = data.assign(R=r_quartiles.values)\n",
    "\n",
    "f_labels = range(1, 5)\n",
    "m_labels = range(1, 5)\n",
    "f_quartiles = pd.qcut(data['Frequency'], 4, labels=f_labels)\n",
    "m_quartiles = pd.qcut(data['MonetaryValue'], 4, labels=m_labels)\n",
    "data = data.assign(F=f_quartiles.values)\n",
    "data = data.assign(M=m_quartiles.values)\n",
    "\n",
    "data.head()\n"
   ]
  },
  {
   "cell_type": "markdown",
   "id": "46531759",
   "metadata": {},
   "source": [
    "#### General segmentation\n",
    "This code assigns the \"Low\" category to customers who do not meet the criteria for the \"Middle\" or \"Top\" segments. Customers with RFM scores between 5 and 9 (inclusive) for Recency, Frequency, and MonetaryValue are categorized as \"Middle.\" Customers with RFM scores greater than or equal to 9 for all three dimensions are categorized as \"Top.\""
   ]
  },
  {
   "cell_type": "code",
   "execution_count": 120,
   "id": "6d47f491",
   "metadata": {},
   "outputs": [
    {
     "data": {
      "text/html": [
       "<div>\n",
       "<style scoped>\n",
       "    .dataframe tbody tr th:only-of-type {\n",
       "        vertical-align: middle;\n",
       "    }\n",
       "\n",
       "    .dataframe tbody tr th {\n",
       "        vertical-align: top;\n",
       "    }\n",
       "\n",
       "    .dataframe thead th {\n",
       "        text-align: right;\n",
       "    }\n",
       "</style>\n",
       "<table border=\"1\" class=\"dataframe\">\n",
       "  <thead>\n",
       "    <tr style=\"text-align: right;\">\n",
       "      <th></th>\n",
       "      <th>CustomerID</th>\n",
       "      <th>Recency</th>\n",
       "      <th>Frequency</th>\n",
       "      <th>MonetaryValue</th>\n",
       "      <th>R</th>\n",
       "      <th>F</th>\n",
       "      <th>M</th>\n",
       "      <th>General_Segment</th>\n",
       "      <th>RFM_Segment</th>\n",
       "      <th>RFM_Score</th>\n",
       "    </tr>\n",
       "  </thead>\n",
       "  <tbody>\n",
       "    <tr>\n",
       "      <th>0</th>\n",
       "      <td>12346.0</td>\n",
       "      <td>327</td>\n",
       "      <td>2</td>\n",
       "      <td>0.00</td>\n",
       "      <td>1</td>\n",
       "      <td>1</td>\n",
       "      <td>1</td>\n",
       "      <td>Low</td>\n",
       "      <td>111</td>\n",
       "      <td>3</td>\n",
       "    </tr>\n",
       "    <tr>\n",
       "      <th>1</th>\n",
       "      <td>12347.0</td>\n",
       "      <td>41</td>\n",
       "      <td>151</td>\n",
       "      <td>3598.21</td>\n",
       "      <td>3</td>\n",
       "      <td>4</td>\n",
       "      <td>4</td>\n",
       "      <td>Low</td>\n",
       "      <td>344</td>\n",
       "      <td>11</td>\n",
       "    </tr>\n",
       "    <tr>\n",
       "      <th>2</th>\n",
       "      <td>12348.0</td>\n",
       "      <td>77</td>\n",
       "      <td>31</td>\n",
       "      <td>1797.24</td>\n",
       "      <td>2</td>\n",
       "      <td>2</td>\n",
       "      <td>4</td>\n",
       "      <td>Low</td>\n",
       "      <td>224</td>\n",
       "      <td>8</td>\n",
       "    </tr>\n",
       "    <tr>\n",
       "      <th>3</th>\n",
       "      <td>12349.0</td>\n",
       "      <td>20</td>\n",
       "      <td>73</td>\n",
       "      <td>1757.55</td>\n",
       "      <td>4</td>\n",
       "      <td>3</td>\n",
       "      <td>4</td>\n",
       "      <td>Low</td>\n",
       "      <td>434</td>\n",
       "      <td>11</td>\n",
       "    </tr>\n",
       "    <tr>\n",
       "      <th>4</th>\n",
       "      <td>12350.0</td>\n",
       "      <td>312</td>\n",
       "      <td>17</td>\n",
       "      <td>334.40</td>\n",
       "      <td>1</td>\n",
       "      <td>1</td>\n",
       "      <td>2</td>\n",
       "      <td>Low</td>\n",
       "      <td>112</td>\n",
       "      <td>4</td>\n",
       "    </tr>\n",
       "  </tbody>\n",
       "</table>\n",
       "</div>"
      ],
      "text/plain": [
       "   CustomerID  Recency  Frequency  MonetaryValue  R  F  M General_Segment  \\\n",
       "0     12346.0      327          2           0.00  1  1  1             Low   \n",
       "1     12347.0       41        151        3598.21  3  4  4             Low   \n",
       "2     12348.0       77         31        1797.24  2  2  4             Low   \n",
       "3     12349.0       20         73        1757.55  4  3  4             Low   \n",
       "4     12350.0      312         17         334.40  1  1  2             Low   \n",
       "\n",
       "  RFM_Segment  RFM_Score  \n",
       "0         111          3  \n",
       "1         344         11  \n",
       "2         224          8  \n",
       "3         434         11  \n",
       "4         112          4  "
      ]
     },
     "execution_count": 120,
     "metadata": {},
     "output_type": "execute_result"
    }
   ],
   "source": [
    "# Create a new column 'General_Segment' to assign segment categories\n",
    "data['General_Segment'] = 'Low'\n",
    "\n",
    "# Assign 'Middle' segment category to customers with RFM scores between 5 and 9\n",
    "data.loc[(data['R'].astype(int) >= 5) & (data['R'].astype(int) <= 9) &\n",
    "         (data['F'].astype(int) >= 5) & (data['F'].astype(int) <= 9) &\n",
    "         (data['M'].astype(int) >= 5) & (data['M'].astype(int) <= 9),\n",
    "         'General_Segment'] = 'Middle'\n",
    "\n",
    "# Assign 'Top' segment category to customers with RFM scores greater than or equal to 9\n",
    "data.loc[(data['R'].astype(int) >= 9) & (data['F'].astype(int) >= 9) &\n",
    "         (data['M'].astype(int) >= 9), 'General_Segment'] = 'Top'\n",
    "\n",
    "def join_rfm(x):\n",
    "    return str(x['R']) + str(x['F']) + str(x['M'])\n",
    "\n",
    "data['RFM_Segment'] = data.apply(join_rfm, axis=1)\n",
    "data['RFM_Score'] = data[['R','F','M']].sum(axis=1)\n",
    "data.head()"
   ]
  },
  {
   "cell_type": "code",
   "execution_count": 121,
   "id": "6f31532c",
   "metadata": {},
   "outputs": [
    {
     "data": {
      "text/html": [
       "<div>\n",
       "<style scoped>\n",
       "    .dataframe tbody tr th:only-of-type {\n",
       "        vertical-align: middle;\n",
       "    }\n",
       "\n",
       "    .dataframe tbody tr th {\n",
       "        vertical-align: top;\n",
       "    }\n",
       "\n",
       "    .dataframe thead tr th {\n",
       "        text-align: left;\n",
       "    }\n",
       "\n",
       "    .dataframe thead tr:last-of-type th {\n",
       "        text-align: right;\n",
       "    }\n",
       "</style>\n",
       "<table border=\"1\" class=\"dataframe\">\n",
       "  <thead>\n",
       "    <tr>\n",
       "      <th></th>\n",
       "      <th>Recency</th>\n",
       "      <th>Frequency</th>\n",
       "      <th colspan=\"2\" halign=\"left\">MonetaryValue</th>\n",
       "    </tr>\n",
       "    <tr>\n",
       "      <th></th>\n",
       "      <th>mean</th>\n",
       "      <th>mean</th>\n",
       "      <th>mean</th>\n",
       "      <th>count</th>\n",
       "    </tr>\n",
       "    <tr>\n",
       "      <th>RFM_Score</th>\n",
       "      <th></th>\n",
       "      <th></th>\n",
       "      <th></th>\n",
       "      <th></th>\n",
       "    </tr>\n",
       "  </thead>\n",
       "  <tbody>\n",
       "    <tr>\n",
       "      <th>3</th>\n",
       "      <td>244.8</td>\n",
       "      <td>7.7</td>\n",
       "      <td>107.4</td>\n",
       "      <td>377</td>\n",
       "    </tr>\n",
       "    <tr>\n",
       "      <th>4</th>\n",
       "      <td>171.8</td>\n",
       "      <td>13.9</td>\n",
       "      <td>214.8</td>\n",
       "      <td>363</td>\n",
       "    </tr>\n",
       "    <tr>\n",
       "      <th>5</th>\n",
       "      <td>151.1</td>\n",
       "      <td>21.2</td>\n",
       "      <td>332.2</td>\n",
       "      <td>523</td>\n",
       "    </tr>\n",
       "    <tr>\n",
       "      <th>6</th>\n",
       "      <td>99.0</td>\n",
       "      <td>27.8</td>\n",
       "      <td>473.4</td>\n",
       "      <td>490</td>\n",
       "    </tr>\n",
       "    <tr>\n",
       "      <th>7</th>\n",
       "      <td>90.2</td>\n",
       "      <td>40.5</td>\n",
       "      <td>708.8</td>\n",
       "      <td>416</td>\n",
       "    </tr>\n",
       "    <tr>\n",
       "      <th>8</th>\n",
       "      <td>63.8</td>\n",
       "      <td>56.0</td>\n",
       "      <td>977.9</td>\n",
       "      <td>451</td>\n",
       "    </tr>\n",
       "    <tr>\n",
       "      <th>9</th>\n",
       "      <td>47.3</td>\n",
       "      <td>73.3</td>\n",
       "      <td>1345.2</td>\n",
       "      <td>405</td>\n",
       "    </tr>\n",
       "    <tr>\n",
       "      <th>10</th>\n",
       "      <td>38.3</td>\n",
       "      <td>121.5</td>\n",
       "      <td>1893.4</td>\n",
       "      <td>440</td>\n",
       "    </tr>\n",
       "    <tr>\n",
       "      <th>11</th>\n",
       "      <td>24.7</td>\n",
       "      <td>184.8</td>\n",
       "      <td>4161.0</td>\n",
       "      <td>407</td>\n",
       "    </tr>\n",
       "    <tr>\n",
       "      <th>12</th>\n",
       "      <td>9.9</td>\n",
       "      <td>364.3</td>\n",
       "      <td>8620.0</td>\n",
       "      <td>419</td>\n",
       "    </tr>\n",
       "  </tbody>\n",
       "</table>\n",
       "</div>"
      ],
      "text/plain": [
       "          Recency Frequency MonetaryValue      \n",
       "             mean      mean          mean count\n",
       "RFM_Score                                      \n",
       "3           244.8       7.7         107.4   377\n",
       "4           171.8      13.9         214.8   363\n",
       "5           151.1      21.2         332.2   523\n",
       "6            99.0      27.8         473.4   490\n",
       "7            90.2      40.5         708.8   416\n",
       "8            63.8      56.0         977.9   451\n",
       "9            47.3      73.3        1345.2   405\n",
       "10           38.3     121.5        1893.4   440\n",
       "11           24.7     184.8        4161.0   407\n",
       "12            9.9     364.3        8620.0   419"
      ]
     },
     "execution_count": 121,
     "metadata": {},
     "output_type": "execute_result"
    }
   ],
   "source": [
    "data.groupby('RFM_Score').agg({'Recency': 'mean',\n",
    "                                   'Frequency': 'mean',\n",
    "                                   'MonetaryValue': ['mean', 'count'] }).round(1)"
   ]
  },
  {
   "cell_type": "code",
   "execution_count": 122,
   "id": "064561a0",
   "metadata": {},
   "outputs": [
    {
     "data": {
      "text/html": [
       "<div>\n",
       "<style scoped>\n",
       "    .dataframe tbody tr th:only-of-type {\n",
       "        vertical-align: middle;\n",
       "    }\n",
       "\n",
       "    .dataframe tbody tr th {\n",
       "        vertical-align: top;\n",
       "    }\n",
       "\n",
       "    .dataframe thead tr th {\n",
       "        text-align: left;\n",
       "    }\n",
       "\n",
       "    .dataframe thead tr:last-of-type th {\n",
       "        text-align: right;\n",
       "    }\n",
       "</style>\n",
       "<table border=\"1\" class=\"dataframe\">\n",
       "  <thead>\n",
       "    <tr>\n",
       "      <th></th>\n",
       "      <th>Recency</th>\n",
       "      <th>Frequency</th>\n",
       "      <th colspan=\"2\" halign=\"left\">MonetaryValue</th>\n",
       "    </tr>\n",
       "    <tr>\n",
       "      <th></th>\n",
       "      <th>mean</th>\n",
       "      <th>mean</th>\n",
       "      <th>mean</th>\n",
       "      <th>count</th>\n",
       "    </tr>\n",
       "    <tr>\n",
       "      <th>General_Segment</th>\n",
       "      <th></th>\n",
       "      <th></th>\n",
       "      <th></th>\n",
       "      <th></th>\n",
       "    </tr>\n",
       "  </thead>\n",
       "  <tbody>\n",
       "    <tr>\n",
       "      <th>Low</th>\n",
       "      <td>209.0</td>\n",
       "      <td>10.7</td>\n",
       "      <td>160.1</td>\n",
       "      <td>740</td>\n",
       "    </tr>\n",
       "    <tr>\n",
       "      <th>Middle</th>\n",
       "      <td>103.1</td>\n",
       "      <td>35.5</td>\n",
       "      <td>607.2</td>\n",
       "      <td>1880</td>\n",
       "    </tr>\n",
       "    <tr>\n",
       "      <th>Top</th>\n",
       "      <td>30.1</td>\n",
       "      <td>186.1</td>\n",
       "      <td>3999.5</td>\n",
       "      <td>1671</td>\n",
       "    </tr>\n",
       "  </tbody>\n",
       "</table>\n",
       "</div>"
      ],
      "text/plain": [
       "                Recency Frequency MonetaryValue      \n",
       "                   mean      mean          mean count\n",
       "General_Segment                                      \n",
       "Low               209.0      10.7         160.1   740\n",
       "Middle            103.1      35.5         607.2  1880\n",
       "Top                30.1     186.1        3999.5  1671"
      ]
     },
     "execution_count": 122,
     "metadata": {},
     "output_type": "execute_result"
    }
   ],
   "source": [
    "def create_segment(df):\n",
    "    if df['RFM_Score'] >= 9:\n",
    "        return 'Top'\n",
    "    elif (df['RFM_Score'] >= 5) and (df['RFM_Score'] < 9):\n",
    "        return 'Middle'\n",
    "    else:\n",
    "        return 'Low'\n",
    "    \n",
    "data['General_Segment'] = data.apply(create_segment, axis=1)\n",
    "data.groupby('General_Segment').agg({'Recency': 'mean',\n",
    "                                         'Frequency': 'mean',\n",
    "                                         'MonetaryValue': ['mean', 'count']}).round(1)"
   ]
  },
  {
   "cell_type": "code",
   "execution_count": 113,
   "id": "41490268",
   "metadata": {},
   "outputs": [
    {
     "data": {
      "image/png": "[encoded data removed]",
      "text/plain": [
       "<Figure size 432x432 with 1 Axes>"
      ]
     },
     "metadata": {},
     "output_type": "display_data"
    }
   ],
   "source": [
    "# Count the number of customers in each segment\n",
    "segment_counts = data['General_Segment'].value_counts()\n",
    "\n",
    "# Create a pie chart to visualize the segment distribution\n",
    "plt.figure(figsize=(6, 6))\n",
    "plt.pie(segment_counts, labels=segment_counts.index, autopct='%1.1f%%', startangle=90)\n",
    "plt.title('Customer Segmentation Distribution')\n",
    "plt.axis('equal')\n",
    "plt.show()"
   ]
  },
  {
   "cell_type": "markdown",
   "id": "748c2105",
   "metadata": {},
   "source": [
    "### Kmeans Evaluation"
   ]
  },
  {
   "cell_type": "code",
   "execution_count": 126,
   "id": "8285f192",
   "metadata": {},
   "outputs": [
    {
     "name": "stdout",
     "output_type": "stream",
     "text": [
      "Within-cluster variance: 972.576324096754\n",
      "Silhouette score: 0.6819023379998185\n"
     ]
    }
   ],
   "source": [
    "from sklearn.cluster import KMeans\n",
    "from sklearn.metrics import silhouette_score\n",
    "\n",
    "# Perform K-means clustering\n",
    "kmeans = KMeans(n_clusters=5, random_state=42)\n",
    "kmeans.fit(X)  # X is the feature matrix containing Recency, Frequency, and MonetaryValue\n",
    "\n",
    "# Calculate within-cluster variance\n",
    "within_cluster_variance = kmeans.inertia_\n",
    "\n",
    "# Calculate silhouette score\n",
    "silhouette_avg = silhouette_score(X, kmeans.labels_)\n",
    "\n",
    "print(\"Within-cluster variance:\", within_cluster_variance)\n",
    "print(\"Silhouette score:\", silhouette_avg)\n"
   ]
  },
  {
   "cell_type": "code",
   "execution_count": null,
   "id": "0cf68d68",
   "metadata": {},
   "outputs": [],
   "source": []
  }
 ],
 "metadata": {
  "kernelspec": {
   "display_name": "Python 3 (ipykernel)",
   "language": "python",
   "name": "python3"
  },
  "language_info": {
   "codemirror_mode": {
    "name": "ipython",
    "version": 3
   },
   "file_extension": ".py",
   "mimetype": "text/x-python",
   "name": "python",
   "nbconvert_exporter": "python",
   "pygments_lexer": "ipython3",
   "version": "3.9.12"
  }
 },
 "nbformat": 4,
 "nbformat_minor": 5
}
