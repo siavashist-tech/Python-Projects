{
 "cells": [
  {
   "cell_type": "markdown",
   "id": "99b188e1",
   "metadata": {},
   "source": [
    "# ROCK, PAPER, & SCISSORS"
   ]
  },
  {
   "cell_type": "code",
   "execution_count": 1,
   "id": "f8738022",
   "metadata": {},
   "outputs": [
    {
     "name": "stdout",
     "output_type": "stream",
     "text": [
      "Lets play Rock, Paper and Scissors\n",
      "Choose between R/P/S [Rock, Paper or Scissors]\n",
      "R\n",
      "Choose between R/P/S [Rock, Paper or Scissors]\n",
      "R\n",
      "Player1 choose R and Player2 choose R\n",
      "That's a tie\n",
      "Choose between R/P/S [Rock, Paper or Scissors]\n",
      "P\n",
      "Choose between R/P/S [Rock, Paper or Scissors]\n",
      "S\n",
      "Player1 choose P and Player2 choose S\n",
      "Player 2 won the game\n",
      "The score of Player 2 is :  1\n",
      "Choose between R/P/S [Rock, Paper or Scissors]\n",
      "P\n",
      "Choose between R/P/S [Rock, Paper or Scissors]\n",
      "P\n",
      "Player1 choose P and Player2 choose P\n",
      "That's a tie\n"
     ]
    }
   ],
   "source": [
    "i=0\n",
    "print(\"Lets play Rock, Paper and Scissors\")\n",
    "p1 = 0\n",
    "p2 = 0\n",
    "while (i<3):\n",
    "    ## user input\n",
    "    player1 = str(input(\"Choose between R/P/S [Rock, Paper or Scissors]\\n\"))\n",
    "    player2 = str(input(\"Choose between R/P/S [Rock, Paper or Scissors]\\n\"))\n",
    "\n",
    "    ##logic using conditional checks\n",
    "    if (player1=='R') and (player2=='R'):\n",
    "        print(\"Player1 choose {option} and Player2 choose {option2}\".format(option=player1,option2=player2))\n",
    "        print(\"That's a tie\")\n",
    "    elif (player1=='R') and (player2=='P'):\n",
    "        print(\"Player1 choose {option} and Player2 choose {option2}\".format(option=player1,option2=player2))\n",
    "        print(\"Player2 has won the game\")\n",
    "        p2 = p2+1\n",
    "        print(\"The score of Player 2 is : \",p2)\n",
    "    elif (player1=='R') and (player2=='S'):\n",
    "        print(\"Player1 choose {option} and Player2 choose {option2}\".format(option=player1,option2=player2))\n",
    "        print(\"Player1 won the game\")\n",
    "        p1 = p1 + 1\n",
    "        print(\"The score of Player 1 is : \",p1)\n",
    "\n",
    "    ### logic for paper\n",
    "    elif (player1=='P') and (player2=='R'):\n",
    "        print(\"Player1 choose {option} and Player2 choose {option2}\".format(option=player1,option2=player2))\n",
    "        print(\"Player1 won the game\")\n",
    "        p1 = p1 + 1\n",
    "        print(\"The score of Player 1 is : \",p1)\n",
    "    elif (player1=='P') and (player2=='P'):\n",
    "        print(\"Player1 choose {option} and Player2 choose {option2}\".format(option=player1,option2=player2))\n",
    "        print(\"That's a tie\")\n",
    "    elif (player1=='P') and (player2=='S'):\n",
    "        print(\"Player1 choose {option} and Player2 choose {option2}\".format(option=player1,option2=player2))\n",
    "        print(\"Player 2 won the game\")\n",
    "        p2 = p2+1\n",
    "        print(\"The score of Player 2 is : \",p2)\n",
    "\n",
    "    ## logic for scissor\n",
    "    elif (player1=='S') and (player2=='R'):\n",
    "        print(\"Player1 choose {option} and Player2 choose {option2}\".format(option=player1,option2=player2))\n",
    "        print(\"Player2 won the game\")\n",
    "        p2 = p2+1\n",
    "        print(\"The score of Player 2 is : \",p2)\n",
    "        \n",
    "    elif (player1=='S') and (player2=='P'):\n",
    "        print(\"Player1 choose {option} and Player2 choose {option2}\".format(option=player1,option2=player2))\n",
    "        print(\"Player1 won the game\")\n",
    "        p1 = p1 + 1\n",
    "        print(\"The score of Player 1 is : \",p1)\n",
    "        \n",
    "    elif (player1=='S') and (player2=='S'):\n",
    "        print(\"Player1 choose {option} and Player2 choose {option2}\".format(option=player1,option2=player2))\n",
    "        print(\"That's a tie\")\n",
    "\n",
    "    ## logic for error\n",
    "    else:\n",
    "        print(\"Error choose correct option\")\n",
    "    i=i+1\n"
   ]
  },
  {
   "cell_type": "code",
   "execution_count": null,
   "id": "4e5678ab",
   "metadata": {},
   "outputs": [],
   "source": []
  }
 ],
 "metadata": {
  "kernelspec": {
   "display_name": "Python 3 (ipykernel)",
   "language": "python",
   "name": "python3"
  },
  "language_info": {
   "codemirror_mode": {
    "name": "ipython",
    "version": 3
   },
   "file_extension": ".py",
   "mimetype": "text/x-python",
   "name": "python",
   "nbconvert_exporter": "python",
   "pygments_lexer": "ipython3",
   "version": "3.9.7"
  }
 },
 "nbformat": 4,
 "nbformat_minor": 5
}
