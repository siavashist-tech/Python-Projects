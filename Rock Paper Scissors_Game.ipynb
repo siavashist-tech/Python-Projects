{
 "cells": [
  {
   "cell_type": "markdown",
   "id": "bb01f6b5",
   "metadata": {},
   "source": [
    "#  Rock ,Paper & Scissors"
   ]
  },
  {
   "cell_type": "code",
   "execution_count": 2,
   "id": "c6a2a905",
   "metadata": {},
   "outputs": [
    {
     "name": "stdout",
     "output_type": "stream",
     "text": [
      "Lets play Rock, Paper and Scissors\n",
      "Choose between R/P/S [Rock, Paper or scissors]\n",
      "R\n",
      "Choose between R/P/S [Rock, Paper or scissors]\n",
      "P\n",
      "Player1 choose R and Player2 choose P\n",
      "Player2 has won the game\n"
     ]
    }
   ],
   "source": [
    "## user input\n",
    "print(\"Lets play Rock, Paper and Scissors\")\n",
    "player1 = str(input(\"Choose between R/P/S [Rock, Paper or Scissors]\\n\"))\n",
    "player2 = str(input(\"Choose between R/P/S [Rock, Paper or Scissors]\\n\"))\n",
    "\n",
    "##logic using conditional checks\n",
    "if (player1=='R') and (player2=='R'):\n",
    "    print(\"Player1 choose {option} and Player2 choose {option2}\".format(option=player1,option2=player2))\n",
    "    print(\"That's a tie\")\n",
    "elif (player1=='R') and (player2=='P'):\n",
    "    print(\"Player1 choose {option} and Player2 choose {option2}\".format(option=player1,option2=player2))\n",
    "    print(\"Player2 has won the game\")\n",
    "elif (player1=='R') and (player2=='S'):\n",
    "    print(\"Player1 choose {option} and Player2 choose {option2}\".format(option=player1,option2=player2))\n",
    "    print(\"Player1 won the game\")\n",
    "    \n",
    "### logic for paper\n",
    "elif (player1=='P') and (player2=='R'):\n",
    "    print(\"Player1 choose {option} and Player2 choose {option2}\".format(option=player1,option2=player2))\n",
    "    print(\"Player1 won the game\")\n",
    "elif (player1=='P') and (player2=='P'):\n",
    "    print(\"Player1 choose {option} and Player2 choose {option2}\".format(option=player1,option2=player2))\n",
    "    print(\"That's a tie\")\n",
    "elif (player1=='P') and (player2=='S'):\n",
    "    print(\"Player1 choose {option} and Player2 choose {option2}\".format(option=player1,option2=player2))\n",
    "    print(\"Player 2 won the game\")\n",
    "    \n",
    "## logic for scissor\n",
    "elif (player1=='S') and (player2=='R'):\n",
    "    print(\"Player1 choose {option} and Player2 choose {option2}\".format(option=player1,option2=player2))\n",
    "    print(\"Player1 won the game\")\n",
    "elif (player1=='S') and (player2=='P'):\n",
    "    print(\"Player1 choose {option} and Player2 choose {option2}\".format(option=player1,option2=player2))\n",
    "    print(\"Player1 won the game\")\n",
    "elif (player1=='S') and (player2=='S'):\n",
    "    print(\"Player1 choose {option} and Player2 choose {option2}\".format(option=player1,option2=player2))\n",
    "    print(\"That's a tie\")\n",
    "\n",
    "## logic for error\n",
    "else:\n",
    "    print(\"Error choose correct option\")\n"
   ]
  },
  {
   "cell_type": "code",
   "execution_count": null,
   "id": "411f22b7",
   "metadata": {},
   "outputs": [],
   "source": []
  }
 ],
 "metadata": {
  "kernelspec": {
   "display_name": "Python 3 (ipykernel)",
   "language": "python",
   "name": "python3"
  },
  "language_info": {
   "codemirror_mode": {
    "name": "ipython",
    "version": 3
   },
   "file_extension": ".py",
   "mimetype": "text/x-python",
   "name": "python",
   "nbconvert_exporter": "python",
   "pygments_lexer": "ipython3",
   "version": "3.9.7"
  }
 },
 "nbformat": 4,
 "nbformat_minor": 5
}
